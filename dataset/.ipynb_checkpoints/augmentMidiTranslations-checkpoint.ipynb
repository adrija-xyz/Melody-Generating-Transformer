{
 "cells": [
  {
   "cell_type": "code",
   "execution_count": 1,
   "id": "385816a7-64a8-4bc6-afee-a6f88dd34427",
   "metadata": {},
   "outputs": [
    {
     "name": "stdout",
     "output_type": "stream",
     "text": [
      "The augmented melodies have been saved to inputMelodiesAugmented.txt\n"
     ]
    }
   ],
   "source": [
    "# -*- coding: utf-8 -*-\n",
    "\"\"\"\n",
    "Created on Mon Aug 26 16:06:10 2024\n",
    "\n",
    "@author: Giovanni Di Liberto\n",
    "See description in the assignment instructions.\n",
    "\"\"\"\n",
    "\n",
    "# Define the note dictionary\n",
    "NOTE_FREQUENCIES = {\n",
    "    'C': 261.63,\n",
    "    'c': 277.18,  # C#\n",
    "    'D': 293.66,\n",
    "    'd': 311.13,  # D#\n",
    "    'E': 329.63,\n",
    "    'F': 349.23,\n",
    "    'f': 369.99,  # F#\n",
    "    'G': 392.00,\n",
    "    'g': 415.30,  # G#\n",
    "    'A': 440.00,\n",
    "    'a': 466.16,  # A#\n",
    "    'B': 493.88,\n",
    "}\n",
    "\n",
    "# List of notes in order\n",
    "NOTES = ['C', 'c', 'D', 'd', 'E', 'F', 'f', 'G', 'g', 'A', 'a', 'B']\n",
    "\n",
    "def translate_notes(notes, shift):\n",
    "    translated_notes = []\n",
    "    for note in notes:\n",
    "        if note in NOTES:\n",
    "            index = NOTES.index(note)\n",
    "            new_index = (index + shift) % len(NOTES)\n",
    "            translated_notes.append(NOTES[new_index])\n",
    "        else:\n",
    "            translated_notes.append(note)  # Keep the character as is if it's not a note\n",
    "    return ''.join(translated_notes)\n",
    "\n",
    "# Example usage\n",
    "#input_notes = \"CDE\"\n",
    "#shift = 1\n",
    "#output_notes = translate_notes(input_notes, shift)\n",
    "#print(output_notes)  # Output: cdF\n",
    "\n",
    "\n",
    "# Load the input file\n",
    "with open('inputMelodies.txt', 'r') as file:\n",
    "    input_melodies = file.readlines()\n",
    "\n",
    "# Apply 5 different translations and save the results\n",
    "shifts = [1, 2, 3, 4, 5]\n",
    "augmented_melodies = []\n",
    "\n",
    "for shift in shifts:\n",
    "    for melody in input_melodies:\n",
    "        augmented_melodies.append(translate_notes(melody.strip(), shift))\n",
    "\n",
    "# Save the augmented melodies to a new file\n",
    "with open('inputMelodiesAugmented.txt', 'w') as file:\n",
    "    for melody in augmented_melodies:\n",
    "        file.write(melody + '\\n')\n",
    "\n",
    "print(\"The augmented melodies have been saved to inputMelodiesAugmented.txt\")\n",
    "\n",
    "\n"
   ]
  },
  {
   "cell_type": "code",
   "execution_count": null,
   "id": "a3e4de9c-c9d1-4754-b0e6-c850d0edf25a",
   "metadata": {},
   "outputs": [],
   "source": []
  }
 ],
 "metadata": {
  "kernelspec": {
   "display_name": "Python 3 (ipykernel)",
   "language": "python",
   "name": "python3"
  },
  "language_info": {
   "codemirror_mode": {
    "name": "ipython",
    "version": 3
   },
   "file_extension": ".py",
   "mimetype": "text/x-python",
   "name": "python",
   "nbconvert_exporter": "python",
   "pygments_lexer": "ipython3",
   "version": "3.11.7"
  }
 },
 "nbformat": 4,
 "nbformat_minor": 5
}
