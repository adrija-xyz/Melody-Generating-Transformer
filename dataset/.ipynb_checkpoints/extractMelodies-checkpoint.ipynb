{
 "cells": [
  {
   "cell_type": "code",
   "execution_count": 1,
   "id": "3d23af19-2161-4f1a-90f0-6abf603b79c8",
   "metadata": {},
   "outputs": [
    {
     "name": "stdout",
     "output_type": "stream",
     "text": [
      "All files ending in '_full.mid' have been copied to the 'musicDataset' directory.\n"
     ]
    }
   ],
   "source": [
    "# -*- coding: utf-8 -*-\n",
    "\"\"\"\n",
    "Created on Sun Aug 25 21:10:09 2024\n",
    "\n",
    "@author: Giovanni Di Liberto\n",
    "See description in the assignment instructions.\n",
    "\"\"\"\n",
    "\n",
    "import os\n",
    "import shutil\n",
    "\n",
    "# Define the source directory and the target directory\n",
    "source_dir = './BiMMuDa/'  # Current directory\n",
    "target_dir = 'musicDatasetOriginal'\n",
    "\n",
    "# Create the target directory if it doesn't exist\n",
    "if not os.path.exists(target_dir):\n",
    "    os.makedirs(target_dir)\n",
    "\n",
    "# Walk through all subdirectories\n",
    "for root, dirs, files in os.walk(source_dir):\n",
    "    for file in files:\n",
    "        if file.endswith('_full.mid'):\n",
    "            # Construct full file path\n",
    "            file_path = os.path.join(root, file)\n",
    "            # Copy the file to the target directory\n",
    "            shutil.copy(file_path, target_dir)\n",
    "\n",
    "print(\"All files ending in '_full.mid' have been copied to the 'musicDataset' directory.\")\n",
    "\n"
   ]
  },
  {
   "cell_type": "code",
   "execution_count": null,
   "id": "77bbde54-071e-4aea-9554-ebee6c820e5d",
   "metadata": {},
   "outputs": [],
   "source": []
  }
 ],
 "metadata": {
  "kernelspec": {
   "display_name": "Python 3 (ipykernel)",
   "language": "python",
   "name": "python3"
  },
  "language_info": {
   "codemirror_mode": {
    "name": "ipython",
    "version": 3
   },
   "file_extension": ".py",
   "mimetype": "text/x-python",
   "name": "python",
   "nbconvert_exporter": "python",
   "pygments_lexer": "ipython3",
   "version": "3.11.7"
  }
 },
 "nbformat": 4,
 "nbformat_minor": 5
}
