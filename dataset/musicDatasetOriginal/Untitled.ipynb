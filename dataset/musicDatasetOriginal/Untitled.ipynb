{
 "cells": [
  {
   "cell_type": "code",
   "execution_count": 1,
   "id": "a1c7c754-7f9d-4da3-8e44-61eead988ca0",
   "metadata": {},
   "outputs": [],
   "source": [
    "from mido import MidiFile\n",
    "\n",
    "def count_notes_in_midi(midi_path):\n",
    "    midi = MidiFile(midi_path)\n",
    "    total_notes = 0\n",
    "\n",
    "    # Iterate over all tracks\n",
    "    for track in midi.tracks:\n",
    "        for msg in track:\n",
    "            # Count note_on messages with non-zero velocity (i.e., when the note is actually played)\n",
    "            if msg.type == 'note_on' and msg.velocity > 0:\n",
    "                total_notes += 1\n",
    "\n",
    "    return total_notes"
   ]
  },
  {
   "cell_type": "code",
   "execution_count": 3,
   "id": "6678cb51-c016-4765-ba5d-d65defbc05ca",
   "metadata": {},
   "outputs": [
    {
     "name": "stdout",
     "output_type": "stream",
     "text": [
      "250\n"
     ]
    }
   ],
   "source": [
    "print(count_notes_in_midi('./1950_01_full.mid'))"
   ]
  },
  {
   "cell_type": "code",
   "execution_count": null,
   "id": "20b3d541-233a-4262-a55d-9aad6677f2bf",
   "metadata": {},
   "outputs": [],
   "source": []
  }
 ],
 "metadata": {
  "kernelspec": {
   "display_name": "Python 3 (ipykernel)",
   "language": "python",
   "name": "python3"
  },
  "language_info": {
   "codemirror_mode": {
    "name": "ipython",
    "version": 3
   },
   "file_extension": ".py",
   "mimetype": "text/x-python",
   "name": "python",
   "nbconvert_exporter": "python",
   "pygments_lexer": "ipython3",
   "version": "3.11.7"
  }
 },
 "nbformat": 4,
 "nbformat_minor": 5
}
