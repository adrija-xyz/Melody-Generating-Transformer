{
 "cells": [
  {
   "cell_type": "code",
   "execution_count": 1,
   "id": "880906eb-7958-4214-a209-ee6f9d1fcfe8",
   "metadata": {},
   "outputs": [],
   "source": [
    "# -*- coding: utf-8 -*-\n",
    "\"\"\"\n",
    "@author: Giovanni Di Liberto\n",
    "See description in the assignment instructions.\n",
    "\"\"\"\n",
    "\n",
    "import os\n",
    "from mido import MidiFile, MidiTrack, Message\n",
    "\n",
    "# Define the note dictionary with frequencies (this can also help determine pitch)\n",
    "NOTE_FREQUENCIES = {\n",
    "    'C': 261.63,\n",
    "    'c': 277.18,  # C#\n",
    "    'D': 293.66,\n",
    "    'd': 311.13,  # D#\n",
    "    'E': 329.63,\n",
    "    'F': 349.23,\n",
    "    'f': 369.99,  # F#\n",
    "    'G': 392.00,\n",
    "    'g': 415.30,  # G#\n",
    "    'A': 440.00,\n",
    "    'a': 466.16,  # A#\n",
    "    'B': 493.88,\n",
    "}\n",
    "\n",
    "# Map MIDI note numbers to note names (ignoring octaves)\n",
    "MIDI_NOTE_TO_NAME = {\n",
    "    0: 'C', 1: 'c', 2: 'D', 3: 'd', 4: 'E', 5: 'F', 6: 'f', 7: 'G', 8: 'g', 9: 'A', 10: 'a', 11: 'B'\n",
    "}\n",
    "\n",
    "# Mapping of MIDI program numbers (0-127)\n",
    "PROGRAM_TO_INSTRUMENT = {\n",
    "    0: 'Acoustic Grand Piano', 1: 'Bright Acoustic Piano', 2: 'Electric Grand Piano',\n",
    "    3: 'Honky-Tonk Piano', 4: 'Electric Piano 1', 5: 'Electric Piano 2', 6: 'Harpsichord',\n",
    "    7: 'Clavinet', 8: 'Celesta', 9: 'Glockenspiel', 10: 'Music Box', 11: 'Vibraphone',\n",
    "    12: 'Marimba', 13: 'Xylophone', 14: 'Tubular Bells', 15: 'Dulcimer', 16: 'Drawbar Organ',\n",
    "    17: 'Percussive Organ', 18: 'Rock Organ', 19: 'Church Organ', 20: 'Reed Organ',\n",
    "    21: 'Accordion', 22: 'Harmonica', 23: 'Tango Accordion', 24: 'Acoustic Guitar (nylon)',\n",
    "    25: 'Acoustic Guitar (steel)', 26: 'Electric Guitar (jazz)', 27: 'Electric Guitar (clean)',\n",
    "    28: 'Electric Guitar (muted)', 29: 'Overdriven Guitar', 30: 'Distorted Guitar',\n",
    "    31: 'Guitar Harmonics', 32: 'Acoustic Bass', 33: 'Electric Bass (finger)', 34: 'Electric Bass (pick)',\n",
    "    35: 'Fretless Bass', 36: 'Slap Bass 1', 37: 'Slap Bass 2', 38: 'Synth Bass 1',\n",
    "    39: 'Synth Bass 2', 40: 'Violin', 41: 'Viola', 42: 'Cello', 43: 'Contrabass',\n",
    "    44: 'Tremolo Strings', 45: 'Pizzicato Strings', 46: 'Orchestral Harp', 47: 'Timpani',\n",
    "    48: 'String Ensemble 1', 49: 'String Ensemble 2', 50: 'SynthStrings 1', 51: 'SynthStrings 2',\n",
    "    52: 'Choir Aahs', 53: 'Voice Oohs', 54: 'Synth Voice', 55: 'Orchestra Hit', 56: 'Trumpet',\n",
    "    57: 'Trombone', 58: 'Tuba', 59: 'Muted Trumpet', 60: 'Flugelhorn', 61: 'French Horn',\n",
    "    62: 'Brass Section', 63: 'SynthBrass 1', 64: 'SynthBrass 2', 65: 'Soprano Sax',\n",
    "    66: 'Alto Sax', 67: 'Tenor Sax', 68: 'Baritone Sax', 69: 'Oboe', 70: 'English Horn',\n",
    "    71: 'Bassoon', 72: 'Clarinet', 73: 'Piccolo', 74: 'Flute', 75: 'Recorder',\n",
    "    76: 'Pan Flute', 77: 'Blown Bottle', 78: 'Shakuhachi', 79: 'Whistle', 80: 'Ocarina',\n",
    "    81: 'Lead 1 (square)', 82: 'Lead 2 (sawtooth)', 83: 'Lead 3 (calliope)', 84: 'Lead 4 (chiff)',\n",
    "    85: 'Lead 5 (charang)', 86: 'Lead 6 (voice)', 87: 'Lead 7 (fifths)', 88: 'Lead 8 (bass + lead)',\n",
    "    89: 'Pad 1 (new age)', 90: 'Pad 2 (warm)', 91: 'Pad 3 (polysynth)', 92: 'Pad 4 (choir)',\n",
    "    93: 'Pad 5 (bowed)', 94: 'Pad 6 (metallic)', 95: 'Pad 7 (halo)', 96: 'Pad 8 (sweep)',\n",
    "    97: 'FX 1 (rain)', 98: 'FX 2 (soundtrack)', 99: 'FX 3 (crystal)', 100: 'FX 4 (atmosphere)',\n",
    "    101: 'FX 5 (brightness)', 102: 'FX 6 (goblins)', 103: 'FX 7 (echoes)', 104: 'FX 8 (sci-fi)',\n",
    "    105: 'Sitar', 106: 'Banjo', 107: 'Shamisen', 108: 'Koto', 109: 'Kalimba', 110: 'Bag pipe',\n",
    "    111: 'Fiddle', 112: 'Shanai', 113: 'Tinkle Bell', 114: 'Agogo', 115: 'Steel Drums',\n",
    "    116: 'Woodblock', 117: 'Taiko Drum', 118: 'Melodic Tom', 119: 'Synth Drum', 120: 'Reverse Cymbal',\n",
    "    121: 'Guitar Fret Noise', 122: 'Breath Noise', 123: 'Seashore', 124: 'Bird Tweet', 125: 'Telephone',\n",
    "    126: 'Helicopter', 127: 'Applause'\n",
    "}\n",
    "\n",
    "# Directory containing the MIDI files\n",
    "midi_dir = '../musicDatasetOriginal'\n",
    "\n",
    "# Directory to store the resulting MIDI files\n",
    "output_dir = 'musicDatasetSimplified'\n",
    "\n",
    "# Create the output directory if it doesn't exist\n",
    "if not os.path.exists(output_dir):\n",
    "    os.makedirs(output_dir)\n",
    "    \n",
    "# List to store the text sequences\n",
    "text_sequences = []\n",
    "# List to store the velocity sequences\n",
    "velocity_sequences = []\n",
    "# List to store the duration sequences\n",
    "duration_sequences = []"
   ]
  },
  {
   "cell_type": "code",
   "execution_count": 2,
   "id": "aee2da50-4945-4175-89f7-51495f489b9e",
   "metadata": {},
   "outputs": [],
   "source": [
    "instruments_list=[]\n",
    "\n",
    "def find_instruments(midi_path):\n",
    "    current_instrument = \"None\"\n",
    "    midi = MidiFile(midi_path)\n",
    "    for track in midi.tracks:\n",
    "        for msg in track:\n",
    "            if msg.type == 'program_change':\n",
    "                current_instrument = PROGRAM_TO_INSTRUMENT.get(msg.program, \"Unknown Instrument\")\n",
    "            if current_instrument != \"None\" and current_instrument not in instruments_list: \n",
    "                    instruments_list.append(current_instrument)\n",
    "\n",
    "for file_name in os.listdir(midi_dir):\n",
    "    if file_name.endswith('.mid'):\n",
    "        midi_path = os.path.join(midi_dir, file_name)\n",
    "        find_instruments(midi_path)"
   ]
  },
  {
   "cell_type": "code",
   "execution_count": 3,
   "id": "c4b66c0b-b35b-435b-9146-db9d9b99e220",
   "metadata": {},
   "outputs": [
    {
     "data": {
      "text/plain": [
       "['Acoustic Grand Piano']"
      ]
     },
     "execution_count": 3,
     "metadata": {},
     "output_type": "execute_result"
    }
   ],
   "source": [
    "instruments_list"
   ]
  },
  {
   "cell_type": "code",
   "execution_count": 4,
   "id": "773c6291-06c0-44df-9e9d-5ffe873ba649",
   "metadata": {},
   "outputs": [],
   "source": [
    "#Function to find out different message type of MIDI Files\n",
    "\n",
    "msgType_list=[]\n",
    "\n",
    "def find_msgType(midi_path):\n",
    "    current_msgType = \"None\"\n",
    "    midi = MidiFile(midi_path)\n",
    "    for track in midi.tracks:\n",
    "        for msg in track:\n",
    "            if msg.type != \"None\" and msg.type not in msgType_list:\n",
    "                msgType_list.append(msg.type)\n",
    "\n",
    "for file_name in os.listdir(midi_dir):\n",
    "    if file_name.endswith('.mid'):\n",
    "        midi_path = os.path.join(midi_dir, file_name)\n",
    "        find_msgType(midi_path)"
   ]
  },
  {
   "cell_type": "code",
   "execution_count": 5,
   "id": "1e156cbf-7e38-4ed7-a2ba-e3d81edf460e",
   "metadata": {},
   "outputs": [
    {
     "data": {
      "text/plain": [
       "['track_name',\n",
       " 'time_signature',\n",
       " 'key_signature',\n",
       " 'set_tempo',\n",
       " 'control_change',\n",
       " 'program_change',\n",
       " 'midi_port',\n",
       " 'note_on',\n",
       " 'end_of_track',\n",
       " 'pitchwheel']"
      ]
     },
     "execution_count": 5,
     "metadata": {},
     "output_type": "execute_result"
    }
   ],
   "source": [
    "msgType_list"
   ]
  },
  {
   "cell_type": "code",
   "execution_count": 6,
   "id": "0ba354e4-a469-4918-935f-e67faa561e48",
   "metadata": {},
   "outputs": [],
   "source": [
    "# Function to convert MIDI file to text sequence\n",
    "\n",
    "def midi_to_text_sequence(midi_path):\n",
    "    midi = MidiFile(midi_path)\n",
    "    sequence = []\n",
    "    active_notes = {}\n",
    "    last_time = 0\n",
    "    previous_time = 0\n",
    "\n",
    "    for track in midi.tracks:\n",
    "        for msg in track:\n",
    "            time_elapsed = last_time + msg.time\n",
    "\n",
    "            if msg.type == 'note_on' and msg.velocity > 0:\n",
    "                midi_note = msg.note\n",
    "                note = MIDI_NOTE_TO_NAME.get(midi_note % 12, '')\n",
    "                octave = (midi_note // 12) - 1\n",
    "                \n",
    "                if time_elapsed > previous_time:\n",
    "                    rest_duration = time_elapsed - previous_time\n",
    "                    if rest_duration > 0:\n",
    "                        sequence.append(f\"R({rest_duration}) \")\n",
    "                \n",
    "                active_notes[midi_note] = time_elapsed\n",
    "                previous_time = time_elapsed\n",
    "                last_time = time_elapsed\n",
    "\n",
    "            elif msg.type == 'note_on' and msg.velocity == 0:\n",
    "                midi_note = msg.note\n",
    "                if midi_note in active_notes:\n",
    "                    start_time = active_notes.pop(midi_note)\n",
    "                    duration = time_elapsed - start_time\n",
    "                    note = MIDI_NOTE_TO_NAME.get(midi_note % 12, '')\n",
    "                    octave = (midi_note // 12) - 1\n",
    "                    \n",
    "                    sequence.append(f\"{note}{octave}({duration}) \")\n",
    "                    previous_time = time_elapsed\n",
    "                    last_time = time_elapsed\n",
    "\n",
    "            else:\n",
    "                last_time += msg.time\n",
    "\n",
    "    return ''.join(sequence)"
   ]
  },
  {
   "cell_type": "code",
   "execution_count": 7,
   "id": "20ce422c-9ef5-4bd9-9781-150fc6a79cd0",
   "metadata": {},
   "outputs": [
    {
     "name": "stdout",
     "output_type": "stream",
     "text": [
      "Text sequences have been written to inputMelodies.txt\n"
     ]
    }
   ],
   "source": [
    "# Process each MIDI file in the directory\n",
    "for file_name in os.listdir(midi_dir):\n",
    "    if file_name.endswith('.mid'):\n",
    "        midi_path = os.path.join(midi_dir, file_name)\n",
    "        text_sequence = midi_to_text_sequence(midi_path)\n",
    "        if text_sequence:\n",
    "            text_sequences.append(text_sequence)\n",
    "        else:\n",
    "            print(f\"No notes found in {file_name}\")\n",
    "\n",
    "# Write the text sequences to a file\n",
    "with open(\"inputMelodies.txt\", \"w\") as file:\n",
    "    for sequence in text_sequences:\n",
    "        file.write(sequence + \"\\n\")\n",
    "    \n",
    "print(\"Text sequences have been written to inputMelodies.txt\")"
   ]
  },
  {
   "cell_type": "code",
   "execution_count": null,
   "id": "9bc2f6f6-c7ee-4221-9d0b-99b9047b45f2",
   "metadata": {},
   "outputs": [],
   "source": []
  }
 ],
 "metadata": {
  "kernelspec": {
   "display_name": "Python 3 (ipykernel)",
   "language": "python",
   "name": "python3"
  },
  "language_info": {
   "codemirror_mode": {
    "name": "ipython",
    "version": 3
   },
   "file_extension": ".py",
   "mimetype": "text/x-python",
   "name": "python",
   "nbconvert_exporter": "python",
   "pygments_lexer": "ipython3",
   "version": "3.11.7"
  }
 },
 "nbformat": 4,
 "nbformat_minor": 5
}
