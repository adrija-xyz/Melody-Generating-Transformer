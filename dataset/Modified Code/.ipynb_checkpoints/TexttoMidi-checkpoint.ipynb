{
 "cells": [
  {
   "cell_type": "code",
   "execution_count": 1,
   "id": "fe870389-11c5-47ed-866f-418a9f8413f2",
   "metadata": {},
   "outputs": [],
   "source": [
    "import re\n",
    "from mido import MidiFile, MidiTrack, Message\n",
    "\n",
    "MIDI_NOTE_TO_NAME = {\n",
    "    'c': 0, 'c#': 1, 'd': 2, 'd#': 3, 'e': 4, 'f': 5, 'f#': 6,\n",
    "    'g': 7, 'g#': 8, 'a': 9, 'a#': 10, 'b': 11, 'c4': 60, 'd4': 62,\n",
    "    'e4': 64, 'f4': 65, 'g4': 67, 'a4': 69, 'b4': 71, 'c5': 72\n",
    "}\n",
    "\n",
    "def text_sequence_to_midi(sequence, output_path):\n",
    "    midi = MidiFile()\n",
    "    track = MidiTrack()\n",
    "    midi.tracks.append(track)\n",
    "    \n",
    "    tokens = re.findall(r'[A-Ga-g#b]+[0-9]*\\([0-9]+\\)|R\\([0-9]+\\)', sequence)\n",
    "\n",
    "    for token in tokens:\n",
    "        if token.startswith('R'):\n",
    "            duration = int(token[token.index('(') + 1: token.index(')')])\n",
    "            track.append(Message('note_off', note=0, velocity=0, time=duration))\n",
    "        else:\n",
    "            pitch = token[:token.index('(')]\n",
    "            duration = int(token[token.index('(') + 1: token.index(')')])\n",
    "            \n",
    "            midi_note = MIDI_NOTE_TO_NAME.get(pitch.lower(), 60)\n",
    "            \n",
    "            track.append(Message('note_on', note=midi_note, velocity=64, time=0))\n",
    "            track.append(Message('note_off', note=midi_note, velocity=64, time=duration))\n",
    "    \n",
    "    midi.save(output_path)\n",
    "\n",
    "sequence = \"A2(1) A2(1) R(409) R(2457) f3(546) R(5) G4(272) R(1) D3(2048) c3(413) R(10) a3(181) R(10) g3(181) R(10) A3(272) R(15) D4(1640) R(24) G3(181) R(10) c3(181) R(10) C3(364) R(10) A3(181) R(10) c3(181) R(106) c3(181) R(10) a3(181) R(512) A3(181) R(10) B3(364) R(96) c3(90) R(5) G3(546) R(1815) A3(181) R(10) c3(272) R(159) C3(546) R(8) A3(409) R(202) A3(546) R(218) A3(181) R(10) B3(181) R(202) c3(181) R(10) A3(409) R(28066) E4(90) R(101) c3(90) R(5) A3(546) R(30) E4(181) R(10) B3(546) R(10) c3(90) R(1830) A3(546) R(10) C3(272) R(15) B3(242) R(10) c3(364) R(10) C3(181) R(10) c3(181) R(10) A3(364) R(20) c3(272) R(2) B3(546) R(894) E4(272) R(15) A3(181) R(10) c3(546) R(845) E4(728) R(3514) A3(272) R(203) c3(181) R(10) B3(181) R(10) A3(181) R(10) C3(364) R(10) B3(181) R(10) A3(364) R(10) G3(181) R(10) A3(181) R(413) A3(181) R(10) a3(364) R(20) E4(272) R(15) E3(546) R(970) c3(181) R(10) B3(546) R(29) B3(181) R(47852) F4(181) R(10) D4(181) R(10) B3(181) R(10) a3(181) R(10) C3(181) R(10) E3(1093) R(20175) G3(95) R(96) C3(191) R(3332) c3(181) R(10) A3(181) R(10) B3(364) R(20) c3(181) R(394) B3(181) R(10) c4(181) R(10) c3(181) R(10) B3(728) R(231) c4(364) R(20) g3(181) R(10) c3(181) R(10) E4(728) R(1210) B3(90) R(5) B3(181) R(586) B3(181) R(10) B3(181) R(10) c3(5) C3(181) R(10) D3(181) R(10) D4(181) R(10) B3(181) R(10) f4(364) R(20) D3(181) R(10) B3(728) R(1796) B3(181) R(10) A3(181) R(10) E4(207) R(197) E4(911) R(1843) B3(1381) R(399) G3(181) R(10) f4(364) R(20) c3(181) R(10) B3(181) R(394) B3(181) R(10) c3(364) R(44) B3(364) R(20) B4(181) R(10) G3(181) R(10) B3(364) R(20) G4(181) R(10) A3(181) R(10) A3(181) R(10) E4(181) R(10) G3(181) R(10) f3(272) R(15) B3(181) R(10) A3(364) R(308) A3(181) R(10) D4(181) R(10) E4(181) R(10) A3(728) R(423) A3(181) R(10) A3(364) R(20) A3(181) R(10) A3(364) C3(20) R(20) D4(181) R(10) A3(181) R(10) B3(181) R(10) D4(181) R(10) E4(181) R(409) B3(203) R(1) G4(408) R(1) A3(612) R(34) G3(181) R(10) D4(181) R(10) A3(364) R(404) A3(364) R(596) A3(181) R(10) f3(191) R(17583) f4(181) R(10) A3(181) R(10) E4(135) R(8) E4(408) R(1) A3(203) R(1) E4(409) R(22) A3(364) R(2) D4(612) R(2) A3(181) R(106) A3(90) R(5) B3(364) R(20) B3(181) R(242) A3(90) R(5) B3(181) R(10) B3(191) R(3) A3(181) R(10) C3(364) R(20) A3(364) R(20) B3(364) R(20) A3(203) R(1) D3(612) R(1) A3(364) R(20) E4(364) R(20) A3(181) R(10) B3(364) R(20) f3(272) R(735) A3(181) R(10) B3(364) R(404) A3(364) R(20) A3(181) R(10) D3(546) R(29) a3(181) R(10) G3(272) R(2) E4(272) R(15) A3(364) R(20) A3(181) R(202) E3(181) R(10) a3(546) R(29) A3(22) R(1) B3(614) R(921) D3(546) R(29) F3(364) R(20) A3(181) R(10) A3(181) R(10) E3(181) R(10) B3(181) R(10) A3(364) R(20) A3(364) R(20) D3(181) R(10) E4(181) R(10) A3(364) R(20) B3(364) R(20) G3(181) R(10) A3(728) R(231) A3(364) R(20) B3(363) R(20) D4(181) R(10) A3(181) R(10) B3(181) R(10) D4(2005) R(10) A3(181) R(10) A3(364) R(20) A3(181) R(10) D4(181) R(10) G3(546) R(989) f3(364) R(20) D4(181) R(10) B3(272) R(15) A3(728) R(614) B3(364) R(20) A3(181) R(10) B3(1093) R(346) D4(181) R(586) A3(181) R(10) G3(181) R(10) B3(181) R(10) a3(364) R(212) A3(181) R(202) A3(364) R(980) A3(181) R(10) c4(546) d5(413) R(202) B3(181) R(5) A3(191) R(288) A3(728) R(39) A3(728) R(192) B3(181) R(10) c3(364) R(20) G3(181) R(10) B3(90) R(5) B3(90) R(5) D4(181) R(10) A3(181) R(10) A3(728) R(10) D4(181) R(10) B3(181) R(10) E3(181) R(10) f3(181) R(7) E4(181) R(10) E3(364) R(20) a3(181) R(10) B3(1093) R(634) A3(181) R(10) A3(181) R(10) B3(181) R(10) D4(90) R(5) A3(181) R(10) A3(152) R(20) E4(364) R(20) A3(181) R(10)\"\n",
    "output_path = \"output.mid\"\n",
    "text_sequence_to_midi(sequence, output_path)"
   ]
  },
  {
   "cell_type": "code",
   "execution_count": null,
   "id": "ca2673a9-30fe-4f17-a99b-ac4b041d982b",
   "metadata": {},
   "outputs": [],
   "source": []
  }
 ],
 "metadata": {
  "kernelspec": {
   "display_name": "Python 3 (ipykernel)",
   "language": "python",
   "name": "python3"
  },
  "language_info": {
   "codemirror_mode": {
    "name": "ipython",
    "version": 3
   },
   "file_extension": ".py",
   "mimetype": "text/x-python",
   "name": "python",
   "nbconvert_exporter": "python",
   "pygments_lexer": "ipython3",
   "version": "3.11.7"
  }
 },
 "nbformat": 4,
 "nbformat_minor": 5
}
