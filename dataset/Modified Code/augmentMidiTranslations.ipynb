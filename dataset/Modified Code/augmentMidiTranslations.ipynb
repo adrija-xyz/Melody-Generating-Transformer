{
 "cells": [
  {
   "cell_type": "code",
   "execution_count": 1,
   "id": "385816a7-64a8-4bc6-afee-a6f88dd34427",
   "metadata": {},
   "outputs": [],
   "source": [
    "# -*- coding: utf-8 -*-\n",
    "\"\"\"\n",
    "Created on Mon Aug 26 16:06:10 2024\n",
    "\n",
    "@author: Giovanni Di Liberto\n",
    "See description in the assignment instructions.\n",
    "\"\"\"\n",
    "\n",
    "# Define the note dictionary\n",
    "NOTE_FREQUENCIES = {\n",
    "    'C': 261.63,\n",
    "    'c': 277.18,  # C#\n",
    "    'D': 293.66,\n",
    "    'd': 311.13,  # D#\n",
    "    'E': 329.63,\n",
    "    'F': 349.23,\n",
    "    'f': 369.99,  # F#\n",
    "    'G': 392.00,\n",
    "    'g': 415.30,  # G#\n",
    "    'A': 440.00,\n",
    "    'a': 466.16,  # A#\n",
    "    'B': 493.88,\n",
    "}\n",
    "\n",
    "# List of notes in order\n",
    "NOTES = ['C', 'c', 'D', 'd', 'E', 'F', 'f', 'G', 'g', 'A', 'a', 'B']"
   ]
  },
  {
   "cell_type": "code",
   "execution_count": 2,
   "id": "6a37e9da-4a05-4f8c-94d6-f19dd0d3e812",
   "metadata": {},
   "outputs": [
    {
     "name": "stdout",
     "output_type": "stream",
     "text": [
      "Original and augmented melodies have been saved to 'inputMelodiesAugmented.txt'\n"
     ]
    }
   ],
   "source": [
    "def parse_note_token(token):\n",
    "    if token.startswith(\"R\"):\n",
    "        pitch = \"R\"\n",
    "        duration = int(token[2:-1])\n",
    "    else:\n",
    "        pitch, duration = token.split(\"(\")\n",
    "        duration = int(duration[:-1])\n",
    "    return pitch, duration\n",
    "\n",
    "def transpose_pitch(pitch, shift):\n",
    "    if pitch == \"R\":\n",
    "        return \"R\"\n",
    "    \n",
    "    note = pitch[:-1]\n",
    "    octave = pitch[-1]\n",
    "\n",
    "    if note in NOTES:\n",
    "        index = NOTES.index(note)\n",
    "        new_index = (index + shift) % len(NOTES)\n",
    "        transposed_note = NOTES[new_index]\n",
    "        return f\"{transposed_note}{octave}\"\n",
    "    else:\n",
    "        return pitch\n",
    "\n",
    "def scale_duration(duration, scale_factor):\n",
    "    return max(1, int(duration * scale_factor))\n",
    "\n",
    "def augment_notes(melody, pitch_shift, duration_scale_factor):\n",
    "    tokens = melody.strip().split()\n",
    "    augmented_tokens = []\n",
    "    for token in tokens:\n",
    "        pitch, duration = parse_note_token(token)\n",
    "        transposed_pitch = transpose_pitch(pitch, pitch_shift)\n",
    "        scaled_duration = scale_duration(duration, duration_scale_factor)\n",
    "        augmented_tokens.append(f\"{transposed_pitch}({scaled_duration})\")\n",
    "    return ' '.join(augmented_tokens)\n",
    "\n",
    "with open('inputMelodies.txt', 'r') as file:\n",
    "    input_melodies = file.readlines()\n",
    "\n",
    "pitch_shifts = [1, 2, 3]\n",
    "duration_scales = [0.8, 1.2]\n",
    "\n",
    "augmented_melodies = []\n",
    "\n",
    "for pitch_shift in pitch_shifts:\n",
    "    for duration_scale in duration_scales:\n",
    "        for melody in input_melodies:\n",
    "            augmented_melody = augment_notes(melody, pitch_shift, duration_scale)\n",
    "            augmented_melodies.append(augmented_melody)\n",
    "\n",
    "with open('inputMelodiesAugmented.txt', 'w') as file:\n",
    "    for melody in augmented_melodies:\n",
    "        file.write(melody + '\\n')\n",
    "\n",
    "print(f\"Original and augmented melodies have been saved to 'inputMelodiesAugmented.txt'\")"
   ]
  },
  {
   "cell_type": "code",
   "execution_count": null,
   "id": "4baf2b95-dfe4-4bbd-841a-eac489a27f18",
   "metadata": {},
   "outputs": [],
   "source": []
  }
 ],
 "metadata": {
  "kernelspec": {
   "display_name": "Python 3 (ipykernel)",
   "language": "python",
   "name": "python3"
  },
  "language_info": {
   "codemirror_mode": {
    "name": "ipython",
    "version": 3
   },
   "file_extension": ".py",
   "mimetype": "text/x-python",
   "name": "python",
   "nbconvert_exporter": "python",
   "pygments_lexer": "ipython3",
   "version": "3.11.7"
  }
 },
 "nbformat": 4,
 "nbformat_minor": 5
}
