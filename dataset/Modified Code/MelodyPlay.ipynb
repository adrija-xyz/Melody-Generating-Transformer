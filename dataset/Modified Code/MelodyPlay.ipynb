{
 "cells": [
  {
   "cell_type": "code",
   "execution_count": 1,
   "id": "5a722107-0b1f-4f46-83b5-6054f8d0984d",
   "metadata": {},
   "outputs": [
    {
     "ename": "KeyboardInterrupt",
     "evalue": "",
     "output_type": "error",
     "traceback": [
      "\u001b[0;31m---------------------------------------------------------------------------\u001b[0m",
      "\u001b[0;31mKeyboardInterrupt\u001b[0m                         Traceback (most recent call last)",
      "Cell \u001b[0;32mIn[1], line 83\u001b[0m\n\u001b[1;32m     81\u001b[0m wave_obj \u001b[38;5;241m=\u001b[39m sa\u001b[38;5;241m.\u001b[39mWaveObject\u001b[38;5;241m.\u001b[39mfrom_wave_file(\u001b[38;5;124m\"\u001b[39m\u001b[38;5;124mmelody_with_durations.wav\u001b[39m\u001b[38;5;124m\"\u001b[39m)\n\u001b[1;32m     82\u001b[0m play_obj \u001b[38;5;241m=\u001b[39m wave_obj\u001b[38;5;241m.\u001b[39mplay()\n\u001b[0;32m---> 83\u001b[0m play_obj\u001b[38;5;241m.\u001b[39mwait_done()\n",
      "File \u001b[0;32m/opt/anaconda3/lib/python3.11/site-packages/simpleaudio/shiny.py:49\u001b[0m, in \u001b[0;36mPlayObject.wait_done\u001b[0;34m(self)\u001b[0m\n\u001b[1;32m     47\u001b[0m \u001b[38;5;28;01mdef\u001b[39;00m \u001b[38;5;21mwait_done\u001b[39m(\u001b[38;5;28mself\u001b[39m):\n\u001b[1;32m     48\u001b[0m     \u001b[38;5;28;01mwhile\u001b[39;00m \u001b[38;5;28mself\u001b[39m\u001b[38;5;241m.\u001b[39mis_playing():\n\u001b[0;32m---> 49\u001b[0m         sleep(\u001b[38;5;241m0.05\u001b[39m)\n",
      "\u001b[0;31mKeyboardInterrupt\u001b[0m: "
     ]
    }
   ],
   "source": [
    "import re\n",
    "from pydub import AudioSegment\n",
    "import numpy as np\n",
    "import simpleaudio as sa\n",
    "\n",
    "NOTE_FREQUENCIES = {\n",
    "    'C': 261.63,\n",
    "    'c': 277.18,\n",
    "    'D': 293.66,\n",
    "    'd': 311.13,\n",
    "    'E': 329.63,\n",
    "    'F': 349.23,\n",
    "    'f': 369.99,\n",
    "    'G': 392.00,\n",
    "    'g': 415.30,\n",
    "    'A': 440.00,\n",
    "    'a': 466.16, \n",
    "    'B': 493.88,\n",
    "    'R': 0\n",
    "}\n",
    "\n",
    "def generate_sine_wave(frequency, duration_ms, sample_rate=44100, amplitude=0.5):\n",
    "    t = np.linspace(0, duration_ms / 1000, int(sample_rate * duration_ms / 1000), False)\n",
    "    wave = 0.5 * amplitude * np.sin(2 * np.pi * frequency * t)\n",
    "    wave = (wave * 32767).astype(np.int16)\n",
    "    audio_segment = AudioSegment(\n",
    "        wave.tobytes(), \n",
    "        frame_rate=sample_rate, \n",
    "        sample_width=wave.dtype.itemsize, \n",
    "        channels=1\n",
    "    )\n",
    "    return audio_segment\n",
    "\n",
    "def parse_sequence(note_sequence):\n",
    "    parsed_sequence = []\n",
    "    for note in note_sequence:\n",
    "        match = re.match(r\"([A-Ga-gR]+)(\\((\\d+)\\))?\", note)\n",
    "        if match:\n",
    "            note_name = match.group(1)\n",
    "            duration = int(match.group(3)) if match.group(3) else 500\n",
    "            \n",
    "            if note_name == 'R':\n",
    "                parsed_sequence.append(('R', duration))\n",
    "            else:\n",
    "                parsed_sequence.append((note_name, duration))\n",
    "        else:\n",
    "            print(f\"Invalid note format: {note}\")\n",
    "    return parsed_sequence\n",
    "\n",
    "def create_sequence(note_sequence):\n",
    "    song = AudioSegment.silent(duration=0)\n",
    "    for note, duration in note_sequence:\n",
    "        if note == 'R':\n",
    "            segment = AudioSegment.silent(duration=duration)\n",
    "        else:\n",
    "            frequency = NOTE_FREQUENCIES.get(note, 0)\n",
    "            if frequency:\n",
    "                segment = generate_sine_wave(frequency, duration)\n",
    "            else:\n",
    "                segment = AudioSegment.silent(duration=duration)\n",
    "        song += segment\n",
    "    return song\n",
    "\n",
    "sequence = \"A2(1) A2(1) R(409) R(2457) f3(546) R(5) G4(272) R(1) D3(2048) c3(413) R(10) a3(181) R(10) g3(181) R(10) A3(272) R(15) D4(1640) R(24) G3(181) R(10) c3(181) R(10) C3(364) R(10) A3(181) R(10) c3(181) R(106) c3(181) R(10) a3(181) R(512) A3(181) R(10) B3(364) R(96) c3(90) R(5) G3(546) R(1815) A3(181) R(10) c3(272) R(159) C3(546) R(8) A3(409) R(202) A3(546) R(218) A3(181) R(10) B3(181) R(202) c3(181) R(10) A3(409) R(28066) E4(90) R(101) c3(90) R(5) A3(546) R(30) E4(181) R(10) B3(546) R(10) c3(90) R(1830) A3(546) R(10) C3(272) R(15) B3(242) R(10) c3(364) R(10) C3(181) R(10) c3(181) R(10) A3(364) R(20) c3(272) R(2) B3(546) R(894) E4(272) R(15) A3(181) R(10) c3(546) R(845) E4(728) R(3514) A3(272) R(203) c3(181) R(10) B3(181) R(10) A3(181) R(10) C3(364) R(10) B3(181) R(10) A3(364) R(10) G3(181) R(10) A3(181) R(413) A3(181) R(10) a3(364) R(20) E4(272) R(15) E3(546) R(970) c3(181) R(10) B3(546) R(29) B3(181) R(47852) F4(181) R(10) D4(181) R(10) B3(181) R(10) a3(181) R(10) C3(181) R(10) E3(1093) R(20175) G3(95) R(96) C3(191) R(3332) c3(181) R(10) A3(181) R(10) B3(364) R(20) c3(181) R(394) B3(181) R(10) c4(181) R(10) c3(181) R(10) B3(728) R(231) c4(364) R(20) g3(181) R(10) c3(181) R(10) E4(728) R(1210) B3(90) R(5) B3(181) R(586) B3(181) R(10) B3(181) R(10) c3(5) C3(181) R(10) D3(181) R(10) D4(181) R(10) B3(181) R(10) f4(364) R(20) D3(181) R(10) B3(728) R(1796) B3(181) R(10) A3(181) R(10) E4(207) R(197) E4(911) R(1843) B3(1381) R(399) G3(181) R(10) f4(364) R(20) c3(181) R(10) B3(181) R(394) B3(181) R(10) c3(364) R(44) B3(364) R(20) B4(181) R(10) G3(181) R(10) B3(364) R(20) G4(181) R(10) A3(181) R(10) A3(181) R(10) E4(181) R(10) G3(181) R(10) f3(272) R(15) B3(181) R(10) A3(364) R(308) A3(181) R(10) D4(181) R(10) E4(181) R(10) A3(728) R(423) A3(181) R(10) A3(364) R(20) A3(181) R(10) A3(364) C3(20) R(20) D4(181) R(10) A3(181) R(10) B3(181) R(10) D4(181) R(10) E4(181) R(409) B3(203) R(1) G4(408) R(1) A3(612) R(34) G3(181) R(10) D4(181) R(10) A3(364) R(404) A3(364) R(596) A3(181) R(10) f3(191) R(17583) f4(181) R(10) A3(181) R(10) E4(135) R(8) E4(408) R(1) A3(203) R(1) E4(409) R(22) A3(364) R(2) D4(612) R(2) A3(181) R(106) A3(90) R(5) B3(364) R(20) B3(181) R(242) A3(90) R(5) B3(181) R(10) B3(191) R(3) A3(181) R(10) C3(364) R(20) A3(364) R(20) B3(364) R(20) A3(203) R(1) D3(612) R(1) A3(364) R(20) E4(364) R(20) A3(181) R(10) B3(364) R(20) f3(272) R(735) A3(181) R(10) B3(364) R(404) A3(364) R(20) A3(181) R(10) D3(546) R(29) a3(181) R(10) G3(272) R(2) E4(272) R(15) A3(364) R(20) A3(181) R(202) E3(181) R(10) a3(546) R(29) A3(22) R(1) B3(614) R(921) D3(546) R(29) F3(364) R(20) A3(181) R(10) A3(181) R(10) E3(181) R(10) B3(181) R(10) A3(364) R(20) A3(364) R(20) D3(181) R(10) E4(181) R(10) A3(364) R(20) B3(364) R(20) G3(181) R(10) A3(728) R(231) A3(364) R(20) B3(363) R(20) D4(181) R(10) A3(181) R(10) B3(181) R(10) D4(2005) R(10) A3(181) R(10) A3(364) R(20) A3(181) R(10) D4(181) R(10) G3(546) R(989) f3(364) R(20) D4(181) R(10) B3(272) R(15) A3(728) R(614) B3(364) R(20) A3(181) R(10) B3(1093) R(346) D4(181) R(586) A3(181) R(10) G3(181) R(10) B3(181) R(10) a3(364) R(212) A3(181) R(202) A3(364) R(980) A3(181) R(10) c4(546) d5(413) R(202) B3(181) R(5) A3(191) R(288) A3(728) R(39) A3(728) R(192) B3(181) R(10) c3(364) R(20) G3(181) R(10) B3(90) R(5) B3(90) R(5) D4(181) R(10) A3(181) R(10) A3(728) R(10) D4(181) R(10) B3(181) R(10) E3(181) R(10) f3(181) R(7) E4(181) R(10) E3(364) R(20) a3(181) R(10) B3(1093) R(634) A3(181) R(10) A3(181) R(10) B3(181) R(10) D4(90) R(5) A3(181) R(10) A3(152) R(20) E4(364) R(20) A3(181) R(10)\".split()\n",
    "\n",
    "song = create_sequence(parsed_sequence)\n",
    "\n",
    "song.export(\"melody_with_durations.wav\", format=\"wav\")\n",
    "\n",
    "wave_obj = sa.WaveObject.from_wave_file(\"melody_with_durations.wav\")\n",
    "play_obj = wave_obj.play()\n",
    "play_obj.wait_done()"
   ]
  },
  {
   "cell_type": "code",
   "execution_count": null,
   "id": "f67b6407-4a8f-447c-a4b8-50ade863634b",
   "metadata": {},
   "outputs": [],
   "source": []
  }
 ],
 "metadata": {
  "kernelspec": {
   "display_name": "Python 3 (ipykernel)",
   "language": "python",
   "name": "python3"
  },
  "language_info": {
   "codemirror_mode": {
    "name": "ipython",
    "version": 3
   },
   "file_extension": ".py",
   "mimetype": "text/x-python",
   "name": "python",
   "nbconvert_exporter": "python",
   "pygments_lexer": "ipython3",
   "version": "3.11.7"
  }
 },
 "nbformat": 4,
 "nbformat_minor": 5
}
