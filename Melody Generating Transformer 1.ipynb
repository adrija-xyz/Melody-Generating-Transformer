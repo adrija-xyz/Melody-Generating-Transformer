{
 "cells": [
  {
   "cell_type": "code",
   "execution_count": 1,
   "metadata": {
    "id": "UUEw2WFJmRj9"
   },
   "outputs": [],
   "source": [
    "import random\n",
    "import numpy as np\n",
    "import torch\n",
    "import torch.nn as nn\n",
    "from torch.nn import functional as F"
   ]
  },
  {
   "cell_type": "code",
   "execution_count": 2,
   "metadata": {
    "id": "Ki7FhyNdmjMk"
   },
   "outputs": [],
   "source": [
    "# hyperparameters\n",
    "batch_size = 64 # how many independent sequences will we process in parallel?\n",
    "block_size = 256 # what is the maximum context length for predictions?\n",
    "max_iters = 2500\n",
    "eval_interval = 500\n",
    "learning_rate = 3e-4\n",
    "device = 'cuda' if torch.cuda.is_available() else 'cpu'\n",
    "eval_iters = 200\n",
    "n_embd = 140  # Reduced embedding size\n",
    "n_head = 4    # Fewer attention heads\n",
    "n_layer = 4   # Fewer transformer layers\n",
    "dropout = 0.1  # Reduced dropout for faster convergence\n",
    "# ------------"
   ]
  },
  {
   "cell_type": "code",
   "execution_count": 3,
   "metadata": {
    "colab": {
     "base_uri": "https://localhost:8080/"
    },
    "id": "rEf6NZe3GIn8",
    "outputId": "96428008-5e92-492c-ab8a-bcd15fc171bc"
   },
   "outputs": [
    {
     "name": "stdout",
     "output_type": "stream",
     "text": [
      "cpu\n"
     ]
    }
   ],
   "source": [
    "print(device)"
   ]
  },
  {
   "cell_type": "code",
   "execution_count": 4,
   "metadata": {
    "colab": {
     "base_uri": "https://localhost:8080/"
    },
    "id": "FuCpr_OtoE-_",
    "outputId": "fc40cafe-111e-457e-e4db-6d193fc6ad0a"
   },
   "outputs": [
    {
     "data": {
      "text/plain": [
       "<torch._C.Generator at 0x1083902f0>"
      ]
     },
     "execution_count": 4,
     "metadata": {},
     "output_type": "execute_result"
    }
   ],
   "source": [
    "torch.manual_seed(1337)"
   ]
  },
  {
   "cell_type": "code",
   "execution_count": 5,
   "metadata": {
    "id": "o-H9hrJfo4-y"
   },
   "outputs": [],
   "source": [
    "with open('../finalAssignment_musicDataset/inputMelodiesAugmented.txt', 'r', encoding='utf-8') as f:\n",
    "    text = f.read()"
   ]
  },
  {
   "cell_type": "code",
   "execution_count": 6,
   "metadata": {},
   "outputs": [
    {
     "name": "stdout",
     "output_type": "stream",
     "text": [
      "R R R R R R R R R R R R R B c E E c c c c E E d R R R R R B B c E E c c c c E E d R R R R R c d E E d B g d d c c c B c B E E g g f g g A B c d E f R R R R R B B c E E c c c c E E d R R R R R B B c E E c c c c E E d R R R R R E E E E d B g d d c c c B c B E E g g f g g A B c d E f B B B g B f E g B f E g B f E c g A g g f B g B f E B g B f E B g B f E E g A g g f B g B f E B g B f E B g B f E B g B f E B g B f E R R g g B d E R R R R R R R R R R R R R R R R R R R R R R R d E d E d d g d c c c B c B g E g A E f g A B c E g f B g B f E g B f E g B f E c g A g g f B g B f E B g B f E B g B f E E g A g g f B g B f E B g B f E B g B f E B g B f E B g B f E G G E G E G G E G G E G G E G A B R R E G G E G E G G E G G E G G E D A G G G A f B B c E E c c c c E E d R R E B A g B B c E E c c c c E E d R R B B B g B f E g B f E g B f E c g A g g f B g B f E B g B f E B g B f E E g A g g f B g B f g B g f E G B g f E g E A g f B g c c E R R R g A B d E\n",
      "R R R R R R R R R R R R R R R R R R R R R R R R R R R R R R R R R R R R R D c D B A f f A B c B f R R D c D B A A G f A B c B f R R D D E B A R R D D E B A B B D B D E f D A A G G f E D E f G A A B D B f D R E f A f D B A E G A B D B f D R E f D E D G f E f f E R R R R D c D B A f f A B c B f R R D c D B A A G f A B c B f R R D D E B A R R D D E B A B B D B D E f D A A G G f E D E f G A A B D B f D R E f A f D B A E G A B D B f D R E f D E D G f E f f E R R R R B D E f B D E B R R R R R D E D B f D D E D B f D E f R R R R R R R R R R R R R R R R R R R R A B A D B A A B A D B A R R R R R R R R R R R R R R R R A B A D B A A B A d C a C F G R R G F d F g C c a g C a a g F F G g g a g G F R a C d C G d R F G a G d C a F g a C d C G d R F G d F d g G F G G F\n"
     ]
    }
   ],
   "source": [
    "#Printing first 2 lines of the dataset\n",
    "with open('../finalAssignment_musicDataset/inputMelodiesAugmented.txt', 'r') as file:\n",
    "    data = file.readlines()\n",
    "    for line in data[:2]:\n",
    "        print(line.strip())"
   ]
  },
  {
   "cell_type": "code",
   "execution_count": 7,
   "metadata": {},
   "outputs": [],
   "source": [
    "with open('../finalAssignment_musicDataset/inputMelodiesAugmented.txt', 'r') as file:\n",
    "    melodies = file.readlines()"
   ]
  },
  {
   "cell_type": "code",
   "execution_count": 8,
   "metadata": {},
   "outputs": [],
   "source": [
    "melody_tokens = [melody.strip().split() for melody in melodies]"
   ]
  },
  {
   "cell_type": "code",
   "execution_count": 9,
   "metadata": {},
   "outputs": [
    {
     "name": "stdout",
     "output_type": "stream",
     "text": [
      "[['R', 'R', 'R', 'R', 'R', 'R', 'R', 'R', 'R', 'R', 'R', 'R', 'R', 'B', 'c', 'E', 'E', 'c', 'c', 'c', 'c', 'E', 'E', 'd', 'R', 'R', 'R', 'R', 'R', 'B', 'B', 'c', 'E', 'E', 'c', 'c', 'c', 'c', 'E', 'E', 'd', 'R', 'R', 'R', 'R', 'R', 'c', 'd', 'E', 'E', 'd', 'B', 'g', 'd', 'd', 'c', 'c', 'c', 'B', 'c', 'B', 'E', 'E', 'g', 'g', 'f', 'g', 'g', 'A', 'B', 'c', 'd', 'E', 'f', 'R', 'R', 'R', 'R', 'R', 'B', 'B', 'c', 'E', 'E', 'c', 'c', 'c', 'c', 'E', 'E', 'd', 'R', 'R', 'R', 'R', 'R', 'B', 'B', 'c', 'E', 'E', 'c', 'c', 'c', 'c', 'E', 'E', 'd', 'R', 'R', 'R', 'R', 'R', 'E', 'E', 'E', 'E', 'd', 'B', 'g', 'd', 'd', 'c', 'c', 'c', 'B', 'c', 'B', 'E', 'E', 'g', 'g', 'f', 'g', 'g', 'A', 'B', 'c', 'd', 'E', 'f', 'B', 'B', 'B', 'g', 'B', 'f', 'E', 'g', 'B', 'f', 'E', 'g', 'B', 'f', 'E', 'c', 'g', 'A', 'g', 'g', 'f', 'B', 'g', 'B', 'f', 'E', 'B', 'g', 'B', 'f', 'E', 'B', 'g', 'B', 'f', 'E', 'E', 'g', 'A', 'g', 'g', 'f', 'B', 'g', 'B', 'f', 'E', 'B', 'g', 'B', 'f', 'E', 'B', 'g', 'B', 'f', 'E', 'B', 'g', 'B', 'f', 'E', 'B', 'g', 'B', 'f', 'E', 'R', 'R', 'g', 'g', 'B', 'd', 'E', 'R', 'R', 'R', 'R', 'R', 'R', 'R', 'R', 'R', 'R', 'R', 'R', 'R', 'R', 'R', 'R', 'R', 'R', 'R', 'R', 'R', 'R', 'R', 'd', 'E', 'd', 'E', 'd', 'd', 'g', 'd', 'c', 'c', 'c', 'B', 'c', 'B', 'g', 'E', 'g', 'A', 'E', 'f', 'g', 'A', 'B', 'c', 'E', 'g', 'f', 'B', 'g', 'B', 'f', 'E', 'g', 'B', 'f', 'E', 'g', 'B', 'f', 'E', 'c', 'g', 'A', 'g', 'g', 'f', 'B', 'g', 'B', 'f', 'E', 'B', 'g', 'B', 'f', 'E', 'B', 'g', 'B', 'f', 'E', 'E', 'g', 'A', 'g', 'g', 'f', 'B', 'g', 'B', 'f', 'E', 'B', 'g', 'B', 'f', 'E', 'B', 'g', 'B', 'f', 'E', 'B', 'g', 'B', 'f', 'E', 'B', 'g', 'B', 'f', 'E', 'G', 'G', 'E', 'G', 'E', 'G', 'G', 'E', 'G', 'G', 'E', 'G', 'G', 'E', 'G', 'A', 'B', 'R', 'R', 'E', 'G', 'G', 'E', 'G', 'E', 'G', 'G', 'E', 'G', 'G', 'E', 'G', 'G', 'E', 'D', 'A', 'G', 'G', 'G', 'A', 'f', 'B', 'B', 'c', 'E', 'E', 'c', 'c', 'c', 'c', 'E', 'E', 'd', 'R', 'R', 'E', 'B', 'A', 'g', 'B', 'B', 'c', 'E', 'E', 'c', 'c', 'c', 'c', 'E', 'E', 'd', 'R', 'R', 'B', 'B', 'B', 'g', 'B', 'f', 'E', 'g', 'B', 'f', 'E', 'g', 'B', 'f', 'E', 'c', 'g', 'A', 'g', 'g', 'f', 'B', 'g', 'B', 'f', 'E', 'B', 'g', 'B', 'f', 'E', 'B', 'g', 'B', 'f', 'E', 'E', 'g', 'A', 'g', 'g', 'f', 'B', 'g', 'B', 'f', 'g', 'B', 'g', 'f', 'E', 'G', 'B', 'g', 'f', 'E', 'g', 'E', 'A', 'g', 'f', 'B', 'g', 'c', 'c', 'E', 'R', 'R', 'R', 'g', 'A', 'B', 'd', 'E']]\n"
     ]
    }
   ],
   "source": [
    "print(melody_tokens[:1])"
   ]
  },
  {
   "cell_type": "code",
   "execution_count": 10,
   "metadata": {},
   "outputs": [],
   "source": [
    "vocabulary = sorted(set(token for melody in melody_tokens for token in melody))\n",
    "vocab_size = len(vocabulary)\n",
    "\n",
    "token_to_id = {token: idx for idx, token in enumerate(vocabulary)}\n",
    "id_to_token = {idx: token for token, idx in token_to_id.items()}"
   ]
  },
  {
   "cell_type": "code",
   "execution_count": 11,
   "metadata": {},
   "outputs": [
    {
     "data": {
      "text/plain": [
       "['A', 'B', 'C', 'D', 'E', 'F', 'G', 'R', 'a', 'c', 'd', 'f', 'g']"
      ]
     },
     "execution_count": 11,
     "metadata": {},
     "output_type": "execute_result"
    }
   ],
   "source": [
    "vocabulary"
   ]
  },
  {
   "cell_type": "code",
   "execution_count": 12,
   "metadata": {},
   "outputs": [],
   "source": [
    "encode = lambda s: [token_to_id[token] for token in s.split()]\n",
    "decode = lambda l: ' '.join([id_to_token[i] for i in l])"
   ]
  },
  {
   "cell_type": "code",
   "execution_count": 13,
   "metadata": {},
   "outputs": [],
   "source": [
    "data = torch.tensor(encode(text), dtype=torch.long)\n",
    "n = int(0.9 * len(data))  # first 90% for training, rest for validation\n",
    "train_data = data[:n]\n",
    "val_data = data[n:]"
   ]
  },
  {
   "cell_type": "code",
   "execution_count": 14,
   "metadata": {
    "id": "1o4d70RWpTt6"
   },
   "outputs": [],
   "source": [
    "# data loading\n",
    "def get_batch(split):\n",
    "    # Generate a small batch of data of inputs x and targets y\n",
    "    data = train_data if split == 'train' else val_data\n",
    "    ix = torch.randint(len(data) - block_size, (batch_size,))\n",
    "    x = torch.stack([data[i:i+block_size] for i in ix])\n",
    "    y = torch.stack([data[i+1:i+block_size+1] for i in ix])\n",
    "    x, y = x.to(device), y.to(device)\n",
    "    return x, y"
   ]
  },
  {
   "cell_type": "code",
   "execution_count": 15,
   "metadata": {
    "id": "7S5fCaufpT3O"
   },
   "outputs": [],
   "source": [
    "@torch.no_grad()\n",
    "def estimate_loss():\n",
    "    out = {}\n",
    "    model.eval()\n",
    "    for split in ['train', 'val']:\n",
    "        losses = torch.zeros(eval_iters)\n",
    "        for k in range(eval_iters):\n",
    "            X, Y = get_batch(split)\n",
    "            logits, loss = model(X, Y)\n",
    "            losses[k] = loss.item()\n",
    "        out[split] = losses.mean()\n",
    "    model.train()\n",
    "    return out"
   ]
  },
  {
   "cell_type": "code",
   "execution_count": 16,
   "metadata": {
    "id": "Hdmno5nGpT8-"
   },
   "outputs": [],
   "source": [
    "class Head(nn.Module):\n",
    "    \"\"\" one head of self-attention \"\"\"\n",
    "\n",
    "    def __init__(self, head_size):\n",
    "        super().__init__()\n",
    "        self.key = nn.Linear(n_embd, head_size, bias=True)\n",
    "        self.query = nn.Linear(n_embd, head_size, bias=True)\n",
    "        self.value = nn.Linear(n_embd, head_size, bias=True)\n",
    "        self.register_buffer('tril', torch.tril(torch.ones(block_size, block_size)))\n",
    "\n",
    "        self.dropout = nn.Dropout(dropout)\n",
    "\n",
    "    def forward(self, x):\n",
    "        # input of size (batch, time-step, channels)\n",
    "        # output of size (batch, time-step, head size)\n",
    "        B,T,C = x.shape\n",
    "        k = self.key(x)   # (B,T,hs)\n",
    "        q = self.query(x) # (B,T,hs)\n",
    "        # compute attention scores (\"affinities\")\n",
    "        wei = q @ k.transpose(-2,-1) * k.shape[-1]**-0.5 # (B, T, hs) @ (B, hs, T) -> (B, T, T)\n",
    "        wei = wei.masked_fill(self.tril[:T, :T] == 0, float('-inf')) # (B, T, T)\n",
    "        wei = F.softmax(wei, dim=-1) # (B, T, T)\n",
    "        wei = self.dropout(wei)\n",
    "        # perform the weighted aggregation of the values\n",
    "        v = self.value(x) # (B,T,hs)\n",
    "        out = wei @ v # (B, T, T) @ (B, T, hs) -> (B, T, hs)\n",
    "        return out"
   ]
  },
  {
   "cell_type": "code",
   "execution_count": 17,
   "metadata": {
    "id": "4L2rwuA2pUB1"
   },
   "outputs": [],
   "source": [
    "class MultiHeadAttention(nn.Module):\n",
    "    \"\"\" multiple heads of self-attention in parallel \"\"\"\n",
    "\n",
    "    def __init__(self, num_heads, head_size):\n",
    "        super().__init__()\n",
    "        self.heads = nn.ModuleList([Head(head_size) for _ in range(num_heads)])\n",
    "        self.proj = nn.Linear(head_size * num_heads, n_embd)\n",
    "        self.dropout = nn.Dropout(dropout)\n",
    "\n",
    "    def forward(self, x):\n",
    "        out = torch.cat([h(x) for h in self.heads], dim=-1)\n",
    "        out = self.dropout(self.proj(out))\n",
    "        return out"
   ]
  },
  {
   "cell_type": "code",
   "execution_count": 18,
   "metadata": {
    "id": "uJG24-EfpUGI"
   },
   "outputs": [],
   "source": [
    "class FeedFoward(nn.Module):\n",
    "    \"\"\" a simple linear layer followed by a non-linearity \"\"\"\n",
    "\n",
    "    def __init__(self, n_embd):\n",
    "        super().__init__()\n",
    "        self.net = nn.Sequential(\n",
    "            nn.Linear(n_embd, 4 * n_embd),\n",
    "            nn.ReLU(),\n",
    "            nn.Linear(4 * n_embd, n_embd),\n",
    "            nn.Dropout(dropout),\n",
    "        )\n",
    "\n",
    "    def forward(self, x):\n",
    "        return self.net(x)"
   ]
  },
  {
   "cell_type": "code",
   "execution_count": 19,
   "metadata": {
    "id": "KKkOrP04pUKH"
   },
   "outputs": [],
   "source": [
    "class Block(nn.Module):\n",
    "    \"\"\" Transformer block: communication followed by computation \"\"\"\n",
    "\n",
    "    def __init__(self, n_embd, n_head):\n",
    "        # n_embd: embedding dimension, n_head: the number of heads we'd like\n",
    "        super().__init__()\n",
    "        head_size = n_embd // n_head\n",
    "        self.sa = MultiHeadAttention(n_head, head_size)\n",
    "        self.ffwd = FeedFoward(n_embd)\n",
    "        self.ln1 = nn.LayerNorm(n_embd)\n",
    "        self.ln2 = nn.LayerNorm(n_embd)\n",
    "\n",
    "    def forward(self, x):\n",
    "        x = x + self.sa(self.ln1(x))\n",
    "        x = x + self.ffwd(self.ln2(x))\n",
    "        return x"
   ]
  },
  {
   "cell_type": "code",
   "execution_count": 20,
   "metadata": {
    "id": "fycHKAvZpUVC"
   },
   "outputs": [],
   "source": [
    "class GPTMelodyModel(nn.Module):\n",
    "\n",
    "    def __init__(self):\n",
    "        super().__init__()\n",
    "        self.token_embedding_table = nn.Embedding(vocab_size, n_embd)\n",
    "        self.position_embedding_table = nn.Embedding(block_size, n_embd)\n",
    "        self.blocks = nn.Sequential(*[Block(n_embd, n_head=n_head) for _ in range(n_layer)])\n",
    "        self.ln_f = nn.LayerNorm(n_embd)\n",
    "        self.lm_head = nn.Linear(n_embd, vocab_size)\n",
    "        self.apply(self._init_weights)\n",
    "\n",
    "    def _init_weights(self, module):\n",
    "        if isinstance(module, nn.Linear):\n",
    "            torch.nn.init.normal_(module.weight, mean=0.0, std=0.02)\n",
    "            if module.bias is not None:\n",
    "                torch.nn.init.zeros_(module.bias)\n",
    "        elif isinstance(module, nn.Embedding):\n",
    "            torch.nn.init.normal_(module.weight, mean=0.0, std=0.02)\n",
    "\n",
    "    def forward(self, idx, targets=None):\n",
    "        B, T = idx.shape\n",
    "        tok_emb = self.token_embedding_table(idx)\n",
    "        pos_emb = self.position_embedding_table(torch.arange(T, device=device))\n",
    "        x = tok_emb + pos_emb\n",
    "        x = self.blocks(x)\n",
    "        x = self.ln_f(x)\n",
    "        logits = self.lm_head(x)\n",
    "\n",
    "        if targets is None:\n",
    "            loss = None\n",
    "        else:\n",
    "            B, T, C = logits.shape\n",
    "            logits = logits.view(B * T, C)\n",
    "            targets = targets.view(B * T)\n",
    "            loss = F.cross_entropy(logits, targets)\n",
    "\n",
    "        return logits, loss\n",
    "\n",
    "    def generate(self, idx, max_new_tokens):\n",
    "        for _ in range(max_new_tokens):\n",
    "            idx_cond = idx[:, -block_size:]\n",
    "            logits, _ = self(idx_cond)\n",
    "            logits = logits[:, -1, :]\n",
    "            probs = F.softmax(logits, dim=-1)\n",
    "            idx_next = torch.multinomial(probs, num_samples=1)\n",
    "            idx = torch.cat((idx, idx_next), dim=1)\n",
    "        return idx"
   ]
  },
  {
   "cell_type": "code",
   "execution_count": 21,
   "metadata": {
    "colab": {
     "base_uri": "https://localhost:8080/"
    },
    "id": "g0RtwLVsqyH-",
    "outputId": "8c28ff37-6689-4bed-d5c3-dd1a9f905ada"
   },
   "outputs": [
    {
     "name": "stdout",
     "output_type": "stream",
     "text": [
      "0.987853 M parameters\n"
     ]
    }
   ],
   "source": [
    "model = GPTMelodyModel()\n",
    "m = model.to(device)\n",
    "print(sum(p.numel() for p in m.parameters()) / 1e6, 'M parameters')"
   ]
  },
  {
   "cell_type": "code",
   "execution_count": 22,
   "metadata": {
    "colab": {
     "base_uri": "https://localhost:8080/"
    },
    "id": "uRaMn-Pwqyff",
    "outputId": "9f6b4ade-a0d4-433c-b054-598d66f7cb47"
   },
   "outputs": [
    {
     "name": "stdout",
     "output_type": "stream",
     "text": [
      "step 0: train loss 2.6006, val loss 2.6026\n",
      "Step 0: Loss = 2.5963, Perplexity = 13.4137\n",
      "step 500: train loss 1.5016, val loss 1.5164\n",
      "Step 500: Loss = 1.5403, Perplexity = 4.6660\n",
      "step 1000: train loss 1.4162, val loss 1.4495\n",
      "Step 1000: Loss = 1.4228, Perplexity = 4.1485\n",
      "step 1500: train loss 1.2234, val loss 1.2521\n",
      "Step 1500: Loss = 1.2973, Perplexity = 3.6592\n",
      "step 2000: train loss 1.1457, val loss 1.1770\n",
      "Step 2000: Loss = 1.2207, Perplexity = 3.3895\n",
      "step 2499: train loss 1.0847, val loss 1.1264\n",
      "Step 2499: Loss = 1.1754, Perplexity = 3.2393\n"
     ]
    }
   ],
   "source": [
    "optimizer = torch.optim.AdamW(model.parameters(), lr=learning_rate)\n",
    "\n",
    "for iter in range(max_iters):\n",
    "    if iter % eval_interval == 0 or iter == max_iters - 1:\n",
    "        losses = estimate_loss()\n",
    "        print(f\"step {iter}: train loss {losses['train']:.4f}, val loss {losses['val']:.4f}\")\n",
    "\n",
    "    xb, yb = get_batch('train')\n",
    "    logits, loss = model(xb, yb)\n",
    "    perplexity = torch.exp(loss)\n",
    "    \n",
    "    if iter % eval_interval == 0 or iter == max_iters - 1:\n",
    "        print(f\"Step {iter}: Loss = {loss.item():.4f}, Perplexity = {perplexity.item():.4f}\")\n",
    "        \n",
    "    optimizer.zero_grad(set_to_none=True)\n",
    "    loss.backward()\n",
    "    optimizer.step()"
   ]
  },
  {
   "cell_type": "code",
   "execution_count": 23,
   "metadata": {},
   "outputs": [
    {
     "name": "stdout",
     "output_type": "stream",
     "text": [
      "A g a B B B B B B B g B B B B B B B B B B B B C B B B B B B B B B B B C B B B B B B B B B B A A A A A A A A g g a a B B B B B B B C B B B B B B C B B B B B B A A A A A A A A A A A g g g a g g g g g g g g g a B B B B B B B B B B B B B C B B B B B B B C B B B B C B B B C B A A A g g g f g g a B R D B g B B B R R g g g g R R g B g g f f R g f R E g A B A B R R R g f E g A B A B R R R R R G E E E B F E E E B E B E E R R D D E B f E E E B R A B R E E B a A A R B A R B A E f R g A f g g d d d f E d E f E d d f D R R E E E E B R R R R R E E E E c E R E E E E E E E E f E E E E E E E E B c E E f f f f R R R g g g d f R f f f E d E d f E d d f d R R R R R g g g f f R R E f f d E d g f R g f f f E d c B R f f R R E c c B B B g a B a B A a g g B a g E d d a R d F d d d F R F d d C d g F F R G g d F G d G C R G g g F d G R R g a C d d a R a a d C d C C d F R G R g g g g F d F G R R g a C d d d a a g g G F R R R R R R R R R R R R R R R R R R R R R R R R R R R R R R R R R R R R R R R R R R R R R R R R\n"
     ]
    }
   ],
   "source": [
    "context = torch.zeros((1, 1), dtype=torch.long, device=device)\n",
    "print(decode(m.generate(context, max_new_tokens=500)[0].tolist()))"
   ]
  },
  {
   "cell_type": "code",
   "execution_count": 24,
   "metadata": {},
   "outputs": [
    {
     "name": "stdout",
     "output_type": "stream",
     "text": [
      "B B B A G A B f c D c B f f g d c B B c d D c c f g A f E B B d d d c R R R R R R R R R R R f R R R R R f f E A C D C C a a d d F d F d d F F F F E E f A C C F c c c C F F R f R R R R R R R R A A G G d d d C D B d F d d f f D C F G d C a D E E c D B B B E c c d C a g R R R R B B c g A R d C C a c d a R R R F C a a G F F D c d F F E R R g a g B d c c c D F G G g f f c c C a A A A D B B B B G G G F C C C d d d g B B A G F F d R R R R d E g c a g g a F G G A D C G a C G G f g f f D C C d c d F d c c d F G G A A C a a F F R R f g C G E D R R R R R R R R R c R R R F F F d d f f E F R R a B B G G A A A B g g g g f A f G G G E g A R R R R R R E C d d f A E f A R A A G F F D E g g a a F F c f E D E E G F R R a a c E E A R d F R R R R R R C B B B B c a a g F f E R R R R d f E D D C D C F F R R a a C C c B B c c c c B A G g g f f a a g A B f f f D E F F R R R R F R R a d a R R R R R R R R R D F A G G F d F E c c E F d c D D C B E D d a a d d d C a C D F d F F F F R R R A A G F D G f f d C G A E\n"
     ]
    }
   ],
   "source": [
    "class MarkovChainMelodyModel:\n",
    "    def __init__(self, melody_tokens):\n",
    "        self.token_to_id = token_to_id\n",
    "        self.id_to_token = id_to_token\n",
    "        self.vocab_size = vocab_size\n",
    "        \n",
    "        self.transition_matrix = np.zeros((self.vocab_size, self.vocab_size), dtype=np.float32)\n",
    "        \n",
    "        for melody in melody_tokens:\n",
    "            for i in range(len(melody) - 1):\n",
    "                current_token = token_to_id[melody[i]]\n",
    "                next_token = token_to_id[melody[i + 1]]\n",
    "                self.transition_matrix[current_token][next_token] += 1\n",
    "        \n",
    "        for i in range(self.vocab_size):\n",
    "            row_sum = np.sum(self.transition_matrix[i])\n",
    "            if row_sum > 0:\n",
    "                self.transition_matrix[i] /= row_sum\n",
    "\n",
    "    def generate(self, start_token, max_new_tokens):\n",
    "        sequence = [start_token]\n",
    "        for _ in range(max_new_tokens - 1):\n",
    "            last_token = sequence[-1]\n",
    "            next_token_probs = self.transition_matrix[last_token]\n",
    "            next_token = np.random.choice(range(self.vocab_size), p=next_token_probs)\n",
    "            sequence.append(next_token)\n",
    "        return sequence\n",
    "\n",
    "markov_model = MarkovChainMelodyModel(melody_tokens)\n",
    "\n",
    "start_token = random.choice(range(vocab_size))\n",
    "generated_sequence = markov_model.generate(start_token, max_new_tokens=500)\n",
    "\n",
    "generated_melody = decode(generated_sequence)\n",
    "print(generated_melody)"
   ]
  },
  {
   "cell_type": "code",
   "execution_count": 25,
   "metadata": {},
   "outputs": [
    {
     "name": "stdout",
     "output_type": "stream",
     "text": [
      "Jaccard Similarity of GPT Generated Sequence: 0.92\n"
     ]
    }
   ],
   "source": [
    "def jaccard_similarity(sequence1, sequence2):\n",
    "    min_len = min(len(sequence1), len(sequence2))\n",
    "    sequence1 = sequence1[:min_len]\n",
    "    sequence2 = sequence2[:min_len]\n",
    "    \n",
    "    set1 = set(sequence1)\n",
    "    set2 = set(sequence2)\n",
    "    \n",
    "    intersection = len(set1.intersection(set2))\n",
    "    union = len(set1.union(set2))\n",
    "    return intersection / union if union != 0 else 0.0\n",
    "\n",
    "context = torch.zeros((1, 1), dtype=torch.long, device=device)\n",
    "gpt_generated_sequence1 = m.generate(context, max_new_tokens=500)[0].tolist()\n",
    "gpt_generated_sequence2 = m.generate(context, max_new_tokens=500)[0].tolist()\n",
    "\n",
    "start_token = random.choice(range(vocab_size))\n",
    "markov_generated_sequence1 = markov_model.generate(start_token, max_new_tokens=500)\n",
    "markov_generated_sequence2 = markov_model.generate(start_token, max_new_tokens=500)\n",
    "\n",
    "jaccard_sim = jaccard_similarity(gpt_generated_sequence1, gpt_generated_sequence2)\n",
    "print(f\"Jaccard Similarity of GPT Generated Sequence: {jaccard_sim:.2f}\")"
   ]
  },
  {
   "cell_type": "code",
   "execution_count": 26,
   "metadata": {},
   "outputs": [
    {
     "name": "stdout",
     "output_type": "stream",
     "text": [
      "Jaccard Similarity of Markov Generated Sequence: 1.00\n"
     ]
    }
   ],
   "source": [
    "jaccard_sim_markov = jaccard_similarity(markov_generated_sequence1, markov_generated_sequence2)\n",
    "print(f\"Jaccard Similarity of Markov Generated Sequence: {jaccard_sim_markov:.2f}\")"
   ]
  },
  {
   "cell_type": "code",
   "execution_count": 27,
   "metadata": {},
   "outputs": [
    {
     "name": "stdout",
     "output_type": "stream",
     "text": [
      "Perplexity of Markov generated sequence: 7.38\n"
     ]
    }
   ],
   "source": [
    "def perplexity(sequence, markov_model):\n",
    "    log_prob_sum = 0\n",
    "    N = len(sequence)\n",
    "    \n",
    "    for i in range(1, N):\n",
    "        prev_token = sequence[i-1]\n",
    "        curr_token = sequence[i]\n",
    "        \n",
    "        transition_prob = markov_model.transition_matrix[prev_token][curr_token]\n",
    "        \n",
    "        if transition_prob == 0:\n",
    "            transition_prob = 1e-10\n",
    "            \n",
    "        log_prob_sum += np.log2(transition_prob)\n",
    "    \n",
    "    perplexity = 2 ** (-log_prob_sum / (N - 1))\n",
    "    return perplexity\n",
    "    \n",
    "markov_generated_sequence1 = [random.choice(range(vocab_size)) for _ in range(500)]\n",
    "perplexity_markov = perplexity(generated_sequence, markov_model)\n",
    "\n",
    "print(f\"Perplexity of Markov generated sequence: {perplexity_markov:.2f}\")"
   ]
  },
  {
   "cell_type": "code",
   "execution_count": null,
   "metadata": {},
   "outputs": [],
   "source": []
  }
 ],
 "metadata": {
  "colab": {
   "provenance": []
  },
  "kernelspec": {
   "display_name": "Python 3 (ipykernel)",
   "language": "python",
   "name": "python3"
  },
  "language_info": {
   "codemirror_mode": {
    "name": "ipython",
    "version": 3
   },
   "file_extension": ".py",
   "mimetype": "text/x-python",
   "name": "python",
   "nbconvert_exporter": "python",
   "pygments_lexer": "ipython3",
   "version": "3.11.7"
  }
 },
 "nbformat": 4,
 "nbformat_minor": 4
}
